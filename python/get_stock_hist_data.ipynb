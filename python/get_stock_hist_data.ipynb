{
 "cells": [
  {
   "cell_type": "code",
   "execution_count": 1,
   "metadata": {},
   "outputs": [],
   "source": [
    "import os\n",
    "import sys\n",
    "# 引入日历模块\n",
    "import calendar\n",
    "import matplotlib\n",
    "import matplotlib.pyplot as plt\n",
    "import numpy as np\n",
    "import pandas as pd\n",
    "import baostock as bs\n",
    "import tushare as ts\n",
    "from datetime import datetime, timedelta\n",
    "%matplotlib inline\n",
    "%config InlineBackend.figure_format = 'svg'"
   ]
  },
  {
   "cell_type": "code",
   "execution_count": 2,
   "metadata": {},
   "outputs": [
    {
     "name": "stdout",
     "output_type": "stream",
     "text": [
      "login success!\n"
     ]
    }
   ],
   "source": [
    "lg = bs.login()"
   ]
  },
  {
   "cell_type": "code",
   "execution_count": 24,
   "metadata": {},
   "outputs": [],
   "source": [
    "# 获取历史90日K线数据（不包含当日） 和 当日5分钟K线数据（用来模拟当日的实时股价）\n",
    "stock='sz.000651'\n",
    "name='格力电器'\n",
    "date_focus='2018-09-28'\n",
    "\n",
    "date_beg = (datetime.strptime(date_focus, '%Y-%m-%d') -\n",
    "            timedelta(days=90)).strftime('%Y-%m-%d')\n",
    "date_end = (datetime.strptime(date_focus, '%Y-%m-%d') -\n",
    "            timedelta(days=1)).strftime('%Y-%m-%d')\n",
    "rs_days = \\\n",
    "    bs.query_history_k_data(stock,\n",
    "                            \"date,open,close,high,low,volume,amount,turn\",\n",
    "                            start_date=date_beg,\n",
    "                            end_date=date_end,\n",
    "                            frequency=\"d\")\n",
    "rs_5min = \\\n",
    "    bs.query_history_k_data(stock,\n",
    "                            \"date,time,open,close,high,low,volume,amount\",\n",
    "                            start_date=date_focus,\n",
    "                            end_date=date_focus,\n",
    "                            frequency=\"5\")\n",
    "data_days = rs_days.get_data()\n",
    "data_5min = rs_5min.get_data()"
   ]
  },
  {
   "cell_type": "code",
   "execution_count": 25,
   "metadata": {},
   "outputs": [
    {
     "data": {
      "text/plain": [
       "date           2018-07-02\n",
       "open              47.0000\n",
       "close             45.3500\n",
       "high              47.0000\n",
       "low               44.9800\n",
       "volume           62894541\n",
       "amount    2881379866.5700\n",
       "turn             1.053586\n",
       "Name: 0, dtype: object"
      ]
     },
     "execution_count": 25,
     "metadata": {},
     "output_type": "execute_result"
    }
   ],
   "source": [
    "# example: ['2013/1/24', 2320.26, 2320.26, 2287.3, 2362.94]\n",
    "# 数据意义：日期(date)，开盘(open)，收盘(close)，最低(lowest)，最高(highest)\n",
    "len(data_days)\n",
    "data_days.loc[0]"
   ]
  },
  {
   "cell_type": "code",
   "execution_count": 27,
   "metadata": {},
   "outputs": [
    {
     "name": "stdout",
     "output_type": "stream",
     "text": [
      "['2018/07/02', 47.00, 45.35, 44.98, 47.00],\n",
      "['2018/07/03', 45.37, 44.60, 43.11, 45.71],\n",
      "['2018/07/04', 44.63, 43.18, 42.90, 44.87],\n",
      "['2018/07/05', 43.80, 43.41, 43.34, 44.53],\n",
      "['2018/07/06', 43.79, 44.20, 43.31, 44.68],\n",
      "['2018/07/09', 44.78, 46.02, 44.41, 46.15],\n",
      "['2018/07/10', 46.02, 45.88, 45.33, 46.18],\n",
      "['2018/07/11', 44.80, 45.29, 44.40, 45.64],\n",
      "['2018/07/12', 45.15, 46.10, 45.15, 46.72],\n",
      "['2018/07/13', 46.27, 46.46, 46.10, 46.75],\n",
      "['2018/07/16', 46.71, 46.45, 46.06, 47.20],\n",
      "['2018/07/17', 46.26, 45.74, 45.40, 46.28],\n",
      "['2018/07/18', 45.80, 44.85, 44.50, 46.37],\n",
      "['2018/07/19', 44.98, 45.23, 44.55, 45.53],\n",
      "['2018/07/20', 44.90, 45.06, 43.76, 45.26],\n",
      "['2018/07/23', 44.60, 44.50, 43.80, 44.60],\n",
      "['2018/07/24', 44.98, 45.78, 44.58, 45.97],\n",
      "['2018/07/25', 45.89, 44.96, 44.86, 45.98],\n",
      "['2018/07/26', 45.00, 44.51, 44.39, 45.28],\n",
      "['2018/07/27', 44.51, 44.12, 43.81, 44.55],\n",
      "['2018/07/30', 44.00, 44.22, 43.70, 44.34],\n",
      "['2018/07/31', 44.02, 44.17, 43.90, 44.51],\n",
      "['2018/08/01', 44.45, 43.05, 42.98, 44.51],\n",
      "['2018/08/02', 43.00, 41.12, 40.56, 43.00],\n",
      "['2018/08/03', 40.98, 39.51, 39.13, 41.29],\n",
      "['2018/08/06', 39.65, 38.83, 38.62, 39.90],\n",
      "['2018/08/07', 39.20, 40.42, 38.84, 40.45],\n",
      "['2018/08/08', 40.42, 39.19, 39.11, 40.50],\n",
      "['2018/08/09', 39.01, 40.36, 38.92, 40.86],\n",
      "['2018/08/10', 40.83, 40.70, 40.43, 41.16],\n",
      "['2018/08/13', 40.10, 40.35, 39.76, 40.39],\n",
      "['2018/08/14', 40.45, 40.00, 39.70, 40.49],\n",
      "['2018/08/15', 40.00, 38.94, 38.88, 40.00],\n",
      "['2018/08/16', 38.40, 38.69, 37.80, 39.42],\n",
      "['2018/08/17', 39.19, 38.00, 37.90, 39.34],\n",
      "['2018/08/20', 37.90, 38.35, 37.36, 38.35],\n",
      "['2018/08/21', 38.55, 39.78, 38.30, 39.88],\n",
      "['2018/08/22', 39.71, 39.28, 39.10, 39.71],\n",
      "['2018/08/23', 39.30, 39.18, 38.56, 39.57],\n",
      "['2018/08/24', 38.98, 38.94, 38.68, 39.28],\n",
      "['2018/08/27', 39.10, 40.34, 39.10, 40.63],\n",
      "['2018/08/28', 40.46, 40.63, 40.34, 41.08],\n",
      "['2018/08/29', 40.55, 40.91, 40.38, 41.12],\n",
      "['2018/08/30', 40.99, 40.60, 39.90, 41.39],\n",
      "['2018/08/31', 39.00, 38.95, 38.51, 39.50],\n",
      "['2018/09/03', 38.77, 38.46, 38.11, 38.77],\n",
      "['2018/09/04', 38.65, 38.86, 38.11, 39.09],\n",
      "['2018/09/05', 38.56, 37.61, 37.58, 38.64],\n",
      "['2018/09/06', 37.58, 36.51, 36.37, 37.78],\n",
      "['2018/09/07', 36.70, 36.54, 36.01, 37.19],\n",
      "['2018/09/10', 36.30, 36.00, 35.77, 36.43],\n",
      "['2018/09/11', 36.03, 36.23, 36.02, 36.53],\n",
      "['2018/09/12', 36.24, 35.77, 35.60, 36.26],\n",
      "['2018/09/13', 36.22, 36.45, 35.80, 36.49],\n",
      "['2018/09/14', 36.45, 37.08, 36.23, 37.37],\n",
      "['2018/09/17', 36.70, 36.80, 36.52, 37.24],\n",
      "['2018/09/18', 36.60, 37.04, 35.80, 37.05],\n",
      "['2018/09/19', 36.80, 38.37, 36.70, 38.88],\n",
      "['2018/09/20', 38.25, 38.41, 38.18, 39.18],\n",
      "['2018/09/21', 38.70, 39.87, 38.50, 40.12],\n",
      "['2018/09/25', 39.25, 39.05, 38.71, 39.49],\n",
      "['2018/09/26', 39.30, 39.33, 38.91, 39.99],\n",
      "['2018/09/27', 39.03, 39.52, 38.75, 39.81]\n"
     ]
    }
   ],
   "source": [
    "for i in range(len(data_days)):\n",
    "    if i != len(data_days) -1:\n",
    "        print(\"['%s', %.2f, %.2f, %.2f, %.2f],\" % ((data_days['date'].loc[i]).replace('-', '/'),\n",
    "            float(data_days['open'].loc[i]),\n",
    "            float(data_days['close'].loc[i]),\n",
    "            float(data_days['low'].loc[i]),\n",
    "            float(data_days['high'].loc[i]),\n",
    "            ))\n",
    "    else:\n",
    "        print(\"['%s', %.2f, %.2f, %.2f, %.2f]\" % ((data_days['date'].loc[i]).replace('-', '/'),\n",
    "            float(data_days['open'].loc[i]),\n",
    "            float(data_days['close'].loc[i]),\n",
    "            float(data_days['low'].loc[i]),\n",
    "            float(data_days['high'].loc[i]),\n",
    "            ))"
   ]
  },
  {
   "cell_type": "code",
   "execution_count": null,
   "metadata": {},
   "outputs": [],
   "source": []
  }
 ],
 "metadata": {
  "kernelspec": {
   "display_name": "Python 3",
   "language": "python",
   "name": "python3"
  },
  "language_info": {
   "codemirror_mode": {
    "name": "ipython",
    "version": 3
   },
   "file_extension": ".py",
   "mimetype": "text/x-python",
   "name": "python",
   "nbconvert_exporter": "python",
   "pygments_lexer": "ipython3",
   "version": "3.6.5"
  }
 },
 "nbformat": 4,
 "nbformat_minor": 2
}
