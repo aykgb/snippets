{
 "cells": [
  {
   "cell_type": "code",
   "execution_count": 1,
   "metadata": {},
   "outputs": [],
   "source": [
    "import os\n",
    "import sys\n",
    "# 引入日历模块\n",
    "import calendar\n",
    "import matplotlib\n",
    "import matplotlib.pyplot as plt\n",
    "import numpy as np\n",
    "import pandas as pd\n",
    "import baostock as bs\n",
    "import tushare as ts\n",
    "from datetime import datetime, timedelta\n",
    "%matplotlib inline\n",
    "%config InlineBackend.figure_format = 'svg'"
   ]
  },
  {
   "cell_type": "code",
   "execution_count": 2,
   "metadata": {},
   "outputs": [
    {
     "name": "stdout",
     "output_type": "stream",
     "text": [
      "login success!\n"
     ]
    }
   ],
   "source": [
    "lg = bs.login()"
   ]
  },
  {
   "cell_type": "code",
   "execution_count": 3,
   "metadata": {},
   "outputs": [
    {
     "data": {
      "text/html": [
       "<div>\n",
       "<style scoped>\n",
       "    .dataframe tbody tr th:only-of-type {\n",
       "        vertical-align: middle;\n",
       "    }\n",
       "\n",
       "    .dataframe tbody tr th {\n",
       "        vertical-align: top;\n",
       "    }\n",
       "\n",
       "    .dataframe thead th {\n",
       "        text-align: right;\n",
       "    }\n",
       "</style>\n",
       "<table border=\"1\" class=\"dataframe\">\n",
       "  <thead>\n",
       "    <tr style=\"text-align: right;\">\n",
       "      <th></th>\n",
       "      <th>code</th>\n",
       "      <th>name</th>\n",
       "      <th>price</th>\n",
       "      <th>bid</th>\n",
       "      <th>ask</th>\n",
       "      <th>volume</th>\n",
       "      <th>amount</th>\n",
       "      <th>time</th>\n",
       "    </tr>\n",
       "  </thead>\n",
       "  <tbody>\n",
       "    <tr>\n",
       "      <th>0</th>\n",
       "      <td>601398</td>\n",
       "      <td>工商银行</td>\n",
       "      <td>5.690</td>\n",
       "      <td>5.680</td>\n",
       "      <td>5.690</td>\n",
       "      <td>199253584</td>\n",
       "      <td>1122075310.000</td>\n",
       "      <td>15:00:00</td>\n",
       "    </tr>\n",
       "  </tbody>\n",
       "</table>\n",
       "</div>"
      ],
      "text/plain": [
       "     code  name  price    bid    ask     volume          amount      time\n",
       "0  601398  工商银行  5.690  5.680  5.690  199253584  1122075310.000  15:00:00"
      ]
     },
     "execution_count": 3,
     "metadata": {},
     "output_type": "execute_result"
    }
   ],
   "source": [
    "df = ts.get_realtime_quotes('601398') #Single stock symbol\n",
    "df[['code','name','price','bid','ask','volume','amount','time']]"
   ]
  },
  {
   "cell_type": "code",
   "execution_count": 4,
   "metadata": {},
   "outputs": [
    {
     "data": {
      "text/plain": [
       "'{\"name\":{\"0\":\"工商银行\"},\"open\":{\"0\":\"5.660\"},\"pre_close\":{\"0\":\"5.650\"},\"price\":{\"0\":\"5.690\"},\"high\":{\"0\":\"5.760\"},\"low\":{\"0\":\"5.570\"},\"bid\":{\"0\":\"5.680\"},\"ask\":{\"0\":\"5.690\"},\"volume\":{\"0\":\"199253584\"},\"amount\":{\"0\":\"1122075310.000\"},\"b1_v\":{\"0\":\"2615\"},\"b1_p\":{\"0\":\"5.680\"},\"b2_v\":{\"0\":\"2673\"},\"b2_p\":{\"0\":\"5.670\"},\"b3_v\":{\"0\":\"2224\"},\"b3_p\":{\"0\":\"5.660\"},\"b4_v\":{\"0\":\"1852\"},\"b4_p\":{\"0\":\"5.650\"},\"b5_v\":{\"0\":\"5334\"},\"b5_p\":{\"0\":\"5.640\"},\"a1_v\":{\"0\":\"26064\"},\"a1_p\":{\"0\":\"5.690\"},\"a2_v\":{\"0\":\"12233\"},\"a2_p\":{\"0\":\"5.700\"},\"a3_v\":{\"0\":\"24695\"},\"a3_p\":{\"0\":\"5.710\"},\"a4_v\":{\"0\":\"5894\"},\"a4_p\":{\"0\":\"5.720\"},\"a5_v\":{\"0\":\"5740\"},\"a5_p\":{\"0\":\"5.730\"},\"date\":{\"0\":\"2018-10-26\"},\"time\":{\"0\":\"15:00:00\"},\"code\":{\"0\":\"601398\"}}'"
      ]
     },
     "execution_count": 4,
     "metadata": {},
     "output_type": "execute_result"
    }
   ],
   "source": [
    "df.to_json(force_ascii=False)"
   ]
  },
  {
   "cell_type": "code",
   "execution_count": 5,
   "metadata": {},
   "outputs": [
    {
     "data": {
      "text/html": [
       "<div>\n",
       "<style scoped>\n",
       "    .dataframe tbody tr th:only-of-type {\n",
       "        vertical-align: middle;\n",
       "    }\n",
       "\n",
       "    .dataframe tbody tr th {\n",
       "        vertical-align: top;\n",
       "    }\n",
       "\n",
       "    .dataframe thead th {\n",
       "        text-align: right;\n",
       "    }\n",
       "</style>\n",
       "<table border=\"1\" class=\"dataframe\">\n",
       "  <thead>\n",
       "    <tr style=\"text-align: right;\">\n",
       "      <th></th>\n",
       "      <th>name</th>\n",
       "      <th>open</th>\n",
       "      <th>pre_close</th>\n",
       "      <th>price</th>\n",
       "      <th>high</th>\n",
       "      <th>low</th>\n",
       "      <th>bid</th>\n",
       "      <th>ask</th>\n",
       "      <th>volume</th>\n",
       "      <th>amount</th>\n",
       "      <th>...</th>\n",
       "      <th>a2_p</th>\n",
       "      <th>a3_v</th>\n",
       "      <th>a3_p</th>\n",
       "      <th>a4_v</th>\n",
       "      <th>a4_p</th>\n",
       "      <th>a5_v</th>\n",
       "      <th>a5_p</th>\n",
       "      <th>date</th>\n",
       "      <th>time</th>\n",
       "      <th>code</th>\n",
       "    </tr>\n",
       "  </thead>\n",
       "  <tbody>\n",
       "    <tr>\n",
       "      <th>0</th>\n",
       "      <td>工商银行</td>\n",
       "      <td>5.66</td>\n",
       "      <td>5.65</td>\n",
       "      <td>5.69</td>\n",
       "      <td>5.76</td>\n",
       "      <td>5.57</td>\n",
       "      <td>5.68</td>\n",
       "      <td>5.69</td>\n",
       "      <td>199253584</td>\n",
       "      <td>1122075310</td>\n",
       "      <td>...</td>\n",
       "      <td>5.7</td>\n",
       "      <td>24695</td>\n",
       "      <td>5.71</td>\n",
       "      <td>5894</td>\n",
       "      <td>5.72</td>\n",
       "      <td>5740</td>\n",
       "      <td>5.73</td>\n",
       "      <td>2018-10-26</td>\n",
       "      <td>15:00:00</td>\n",
       "      <td>601398</td>\n",
       "    </tr>\n",
       "  </tbody>\n",
       "</table>\n",
       "<p>1 rows × 33 columns</p>\n",
       "</div>"
      ],
      "text/plain": [
       "   name  open  pre_close  price  high   low   bid   ask     volume  \\\n",
       "0  工商银行  5.66       5.65   5.69  5.76  5.57  5.68  5.69  199253584   \n",
       "\n",
       "       amount   ...    a2_p   a3_v  a3_p  a4_v  a4_p  a5_v  a5_p       date  \\\n",
       "0  1122075310   ...     5.7  24695  5.71  5894  5.72  5740  5.73 2018-10-26   \n",
       "\n",
       "       time    code  \n",
       "0  15:00:00  601398  \n",
       "\n",
       "[1 rows x 33 columns]"
      ]
     },
     "execution_count": 5,
     "metadata": {},
     "output_type": "execute_result"
    }
   ],
   "source": [
    "pd.read_json(_,)"
   ]
  },
  {
   "cell_type": "code",
   "execution_count": 6,
   "metadata": {},
   "outputs": [],
   "source": [
    "wf = open(\"./realtime.json\", \"w+\")"
   ]
  },
  {
   "cell_type": "code",
   "execution_count": 7,
   "metadata": {},
   "outputs": [
    {
     "data": {
      "text/plain": [
       "716"
      ]
     },
     "execution_count": 7,
     "metadata": {},
     "output_type": "execute_result"
    }
   ],
   "source": [
    "wf.write(df.to_json(force_ascii=False)+\"\\n\")\n",
    "wf.write(df.to_json(force_ascii=False)+\"\\n\")\n",
    "wf.write(df.to_json(force_ascii=False)+\"\\n\")"
   ]
  },
  {
   "cell_type": "code",
   "execution_count": 8,
   "metadata": {},
   "outputs": [],
   "source": [
    "wf.flush()\n",
    "wf.close()"
   ]
  },
  {
   "cell_type": "code",
   "execution_count": 9,
   "metadata": {},
   "outputs": [],
   "source": [
    "rf = open(\"./realtime.json\", \"r\")"
   ]
  },
  {
   "cell_type": "code",
   "execution_count": 10,
   "metadata": {},
   "outputs": [
    {
     "name": "stdout",
     "output_type": "stream",
     "text": [
      "{\"name\":{\"0\":\"工商银行\"},\"open\":{\"0\":\"5.660\"},\"pre_close\":{\"0\":\"5.650\"},\"price\":{\"0\":\"5.690\"},\"high\":{\"0\":\"5.760\"},\"low\":{\"0\":\"5.570\"},\"bid\":{\"0\":\"5.680\"},\"ask\":{\"0\":\"5.690\"},\"volume\":{\"0\":\"199253584\"},\"amount\":{\"0\":\"1122075310.000\"},\"b1_v\":{\"0\":\"2615\"},\"b1_p\":{\"0\":\"5.680\"},\"b2_v\":{\"0\":\"2673\"},\"b2_p\":{\"0\":\"5.670\"},\"b3_v\":{\"0\":\"2224\"},\"b3_p\":{\"0\":\"5.660\"},\"b4_v\":{\"0\":\"1852\"},\"b4_p\":{\"0\":\"5.650\"},\"b5_v\":{\"0\":\"5334\"},\"b5_p\":{\"0\":\"5.640\"},\"a1_v\":{\"0\":\"26064\"},\"a1_p\":{\"0\":\"5.690\"},\"a2_v\":{\"0\":\"12233\"},\"a2_p\":{\"0\":\"5.700\"},\"a3_v\":{\"0\":\"24695\"},\"a3_p\":{\"0\":\"5.710\"},\"a4_v\":{\"0\":\"5894\"},\"a4_p\":{\"0\":\"5.720\"},\"a5_v\":{\"0\":\"5740\"},\"a5_p\":{\"0\":\"5.730\"},\"date\":{\"0\":\"2018-10-26\"},\"time\":{\"0\":\"15:00:00\"},\"code\":{\"0\":\"601398\"}}\n",
      "\n"
     ]
    }
   ],
   "source": [
    "row=rf.readline()\n",
    "print(row)"
   ]
  },
  {
   "cell_type": "code",
   "execution_count": 11,
   "metadata": {},
   "outputs": [],
   "source": [
    "pd_row0=pd.read_json(row)\n",
    "pd_row1=pd.read_json(row)"
   ]
  },
  {
   "cell_type": "code",
   "execution_count": 12,
   "metadata": {},
   "outputs": [
    {
     "data": {
      "text/html": [
       "<div>\n",
       "<style scoped>\n",
       "    .dataframe tbody tr th:only-of-type {\n",
       "        vertical-align: middle;\n",
       "    }\n",
       "\n",
       "    .dataframe tbody tr th {\n",
       "        vertical-align: top;\n",
       "    }\n",
       "\n",
       "    .dataframe thead th {\n",
       "        text-align: right;\n",
       "    }\n",
       "</style>\n",
       "<table border=\"1\" class=\"dataframe\">\n",
       "  <thead>\n",
       "    <tr style=\"text-align: right;\">\n",
       "      <th></th>\n",
       "      <th>name</th>\n",
       "      <th>open</th>\n",
       "      <th>pre_close</th>\n",
       "      <th>price</th>\n",
       "      <th>high</th>\n",
       "      <th>low</th>\n",
       "      <th>bid</th>\n",
       "      <th>ask</th>\n",
       "      <th>volume</th>\n",
       "      <th>amount</th>\n",
       "      <th>...</th>\n",
       "      <th>a2_p</th>\n",
       "      <th>a3_v</th>\n",
       "      <th>a3_p</th>\n",
       "      <th>a4_v</th>\n",
       "      <th>a4_p</th>\n",
       "      <th>a5_v</th>\n",
       "      <th>a5_p</th>\n",
       "      <th>date</th>\n",
       "      <th>time</th>\n",
       "      <th>code</th>\n",
       "    </tr>\n",
       "  </thead>\n",
       "  <tbody>\n",
       "    <tr>\n",
       "      <th>0</th>\n",
       "      <td>工商银行</td>\n",
       "      <td>5.66</td>\n",
       "      <td>5.65</td>\n",
       "      <td>5.69</td>\n",
       "      <td>5.76</td>\n",
       "      <td>5.57</td>\n",
       "      <td>5.68</td>\n",
       "      <td>5.69</td>\n",
       "      <td>199253584</td>\n",
       "      <td>1122075310</td>\n",
       "      <td>...</td>\n",
       "      <td>5.7</td>\n",
       "      <td>24695</td>\n",
       "      <td>5.71</td>\n",
       "      <td>5894</td>\n",
       "      <td>5.72</td>\n",
       "      <td>5740</td>\n",
       "      <td>5.73</td>\n",
       "      <td>2018-10-26</td>\n",
       "      <td>15:00:00</td>\n",
       "      <td>601398</td>\n",
       "    </tr>\n",
       "  </tbody>\n",
       "</table>\n",
       "<p>1 rows × 33 columns</p>\n",
       "</div>"
      ],
      "text/plain": [
       "   name  open  pre_close  price  high   low   bid   ask     volume  \\\n",
       "0  工商银行  5.66       5.65   5.69  5.76  5.57  5.68  5.69  199253584   \n",
       "\n",
       "       amount   ...    a2_p   a3_v  a3_p  a4_v  a4_p  a5_v  a5_p       date  \\\n",
       "0  1122075310   ...     5.7  24695  5.71  5894  5.72  5740  5.73 2018-10-26   \n",
       "\n",
       "       time    code  \n",
       "0  15:00:00  601398  \n",
       "\n",
       "[1 rows x 33 columns]"
      ]
     },
     "execution_count": 12,
     "metadata": {},
     "output_type": "execute_result"
    }
   ],
   "source": [
    "pd_row0\n"
   ]
  },
  {
   "cell_type": "code",
   "execution_count": 13,
   "metadata": {},
   "outputs": [
    {
     "data": {
      "text/html": [
       "<div>\n",
       "<style scoped>\n",
       "    .dataframe tbody tr th:only-of-type {\n",
       "        vertical-align: middle;\n",
       "    }\n",
       "\n",
       "    .dataframe tbody tr th {\n",
       "        vertical-align: top;\n",
       "    }\n",
       "\n",
       "    .dataframe thead th {\n",
       "        text-align: right;\n",
       "    }\n",
       "</style>\n",
       "<table border=\"1\" class=\"dataframe\">\n",
       "  <thead>\n",
       "    <tr style=\"text-align: right;\">\n",
       "      <th></th>\n",
       "      <th>name</th>\n",
       "      <th>open</th>\n",
       "      <th>pre_close</th>\n",
       "      <th>price</th>\n",
       "      <th>high</th>\n",
       "      <th>low</th>\n",
       "      <th>bid</th>\n",
       "      <th>ask</th>\n",
       "      <th>volume</th>\n",
       "      <th>amount</th>\n",
       "      <th>...</th>\n",
       "      <th>a2_p</th>\n",
       "      <th>a3_v</th>\n",
       "      <th>a3_p</th>\n",
       "      <th>a4_v</th>\n",
       "      <th>a4_p</th>\n",
       "      <th>a5_v</th>\n",
       "      <th>a5_p</th>\n",
       "      <th>date</th>\n",
       "      <th>time</th>\n",
       "      <th>code</th>\n",
       "    </tr>\n",
       "  </thead>\n",
       "  <tbody>\n",
       "    <tr>\n",
       "      <th>0</th>\n",
       "      <td>工商银行</td>\n",
       "      <td>5.5</td>\n",
       "      <td>5.65</td>\n",
       "      <td>5.69</td>\n",
       "      <td>5.76</td>\n",
       "      <td>5.57</td>\n",
       "      <td>5.68</td>\n",
       "      <td>5.69</td>\n",
       "      <td>199253584</td>\n",
       "      <td>1122075310</td>\n",
       "      <td>...</td>\n",
       "      <td>5.7</td>\n",
       "      <td>24695</td>\n",
       "      <td>5.71</td>\n",
       "      <td>5894</td>\n",
       "      <td>5.72</td>\n",
       "      <td>5740</td>\n",
       "      <td>5.73</td>\n",
       "      <td>2018-10-26</td>\n",
       "      <td>15:00:00</td>\n",
       "      <td>601398</td>\n",
       "    </tr>\n",
       "  </tbody>\n",
       "</table>\n",
       "<p>1 rows × 33 columns</p>\n",
       "</div>"
      ],
      "text/plain": [
       "   name  open  pre_close  price  high   low   bid   ask     volume  \\\n",
       "0  工商银行   5.5       5.65   5.69  5.76  5.57  5.68  5.69  199253584   \n",
       "\n",
       "       amount   ...    a2_p   a3_v  a3_p  a4_v  a4_p  a5_v  a5_p       date  \\\n",
       "0  1122075310   ...     5.7  24695  5.71  5894  5.72  5740  5.73 2018-10-26   \n",
       "\n",
       "       time    code  \n",
       "0  15:00:00  601398  \n",
       "\n",
       "[1 rows x 33 columns]"
      ]
     },
     "execution_count": 13,
     "metadata": {},
     "output_type": "execute_result"
    }
   ],
   "source": [
    "pd_row1[['open']] = 5.5\n",
    "pd_row1"
   ]
  },
  {
   "cell_type": "code",
   "execution_count": 14,
   "metadata": {},
   "outputs": [],
   "source": [
    "df = pd_row0.append(pd_row1)"
   ]
  },
  {
   "cell_type": "code",
   "execution_count": 15,
   "metadata": {},
   "outputs": [
    {
     "data": {
      "text/html": [
       "<div>\n",
       "<style scoped>\n",
       "    .dataframe tbody tr th:only-of-type {\n",
       "        vertical-align: middle;\n",
       "    }\n",
       "\n",
       "    .dataframe tbody tr th {\n",
       "        vertical-align: top;\n",
       "    }\n",
       "\n",
       "    .dataframe thead th {\n",
       "        text-align: right;\n",
       "    }\n",
       "</style>\n",
       "<table border=\"1\" class=\"dataframe\">\n",
       "  <thead>\n",
       "    <tr style=\"text-align: right;\">\n",
       "      <th></th>\n",
       "      <th>name</th>\n",
       "      <th>open</th>\n",
       "      <th>pre_close</th>\n",
       "      <th>price</th>\n",
       "      <th>high</th>\n",
       "      <th>low</th>\n",
       "      <th>bid</th>\n",
       "      <th>ask</th>\n",
       "      <th>volume</th>\n",
       "      <th>amount</th>\n",
       "      <th>...</th>\n",
       "      <th>a2_p</th>\n",
       "      <th>a3_v</th>\n",
       "      <th>a3_p</th>\n",
       "      <th>a4_v</th>\n",
       "      <th>a4_p</th>\n",
       "      <th>a5_v</th>\n",
       "      <th>a5_p</th>\n",
       "      <th>date</th>\n",
       "      <th>time</th>\n",
       "      <th>code</th>\n",
       "    </tr>\n",
       "  </thead>\n",
       "  <tbody>\n",
       "    <tr>\n",
       "      <th>0</th>\n",
       "      <td>工商银行</td>\n",
       "      <td>5.5</td>\n",
       "      <td>5.65</td>\n",
       "      <td>5.69</td>\n",
       "      <td>5.76</td>\n",
       "      <td>5.57</td>\n",
       "      <td>5.68</td>\n",
       "      <td>5.69</td>\n",
       "      <td>199253584</td>\n",
       "      <td>1122075310</td>\n",
       "      <td>...</td>\n",
       "      <td>5.7</td>\n",
       "      <td>24695</td>\n",
       "      <td>5.71</td>\n",
       "      <td>5894</td>\n",
       "      <td>5.72</td>\n",
       "      <td>5740</td>\n",
       "      <td>5.73</td>\n",
       "      <td>2018-10-26</td>\n",
       "      <td>15:00:00</td>\n",
       "      <td>601398</td>\n",
       "    </tr>\n",
       "  </tbody>\n",
       "</table>\n",
       "<p>1 rows × 33 columns</p>\n",
       "</div>"
      ],
      "text/plain": [
       "   name  open  pre_close  price  high   low   bid   ask     volume  \\\n",
       "0  工商银行   5.5       5.65   5.69  5.76  5.57  5.68  5.69  199253584   \n",
       "\n",
       "       amount   ...    a2_p   a3_v  a3_p  a4_v  a4_p  a5_v  a5_p       date  \\\n",
       "0  1122075310   ...     5.7  24695  5.71  5894  5.72  5740  5.73 2018-10-26   \n",
       "\n",
       "       time    code  \n",
       "0  15:00:00  601398  \n",
       "\n",
       "[1 rows x 33 columns]"
      ]
     },
     "execution_count": 15,
     "metadata": {},
     "output_type": "execute_result"
    }
   ],
   "source": [
    "pd_row1"
   ]
  },
  {
   "cell_type": "code",
   "execution_count": 16,
   "metadata": {},
   "outputs": [
    {
     "data": {
      "text/html": [
       "<div>\n",
       "<style scoped>\n",
       "    .dataframe tbody tr th:only-of-type {\n",
       "        vertical-align: middle;\n",
       "    }\n",
       "\n",
       "    .dataframe tbody tr th {\n",
       "        vertical-align: top;\n",
       "    }\n",
       "\n",
       "    .dataframe thead th {\n",
       "        text-align: right;\n",
       "    }\n",
       "</style>\n",
       "<table border=\"1\" class=\"dataframe\">\n",
       "  <thead>\n",
       "    <tr style=\"text-align: right;\">\n",
       "      <th></th>\n",
       "      <th>name</th>\n",
       "      <th>open</th>\n",
       "      <th>pre_close</th>\n",
       "      <th>price</th>\n",
       "      <th>high</th>\n",
       "      <th>low</th>\n",
       "      <th>bid</th>\n",
       "      <th>ask</th>\n",
       "      <th>volume</th>\n",
       "      <th>amount</th>\n",
       "      <th>...</th>\n",
       "      <th>a2_p</th>\n",
       "      <th>a3_v</th>\n",
       "      <th>a3_p</th>\n",
       "      <th>a4_v</th>\n",
       "      <th>a4_p</th>\n",
       "      <th>a5_v</th>\n",
       "      <th>a5_p</th>\n",
       "      <th>date</th>\n",
       "      <th>time</th>\n",
       "      <th>code</th>\n",
       "    </tr>\n",
       "  </thead>\n",
       "  <tbody>\n",
       "    <tr>\n",
       "      <th>0</th>\n",
       "      <td>工商银行</td>\n",
       "      <td>5.66</td>\n",
       "      <td>5.65</td>\n",
       "      <td>5.69</td>\n",
       "      <td>5.76</td>\n",
       "      <td>5.57</td>\n",
       "      <td>5.68</td>\n",
       "      <td>5.69</td>\n",
       "      <td>199253584</td>\n",
       "      <td>1122075310</td>\n",
       "      <td>...</td>\n",
       "      <td>5.7</td>\n",
       "      <td>24695</td>\n",
       "      <td>5.71</td>\n",
       "      <td>5894</td>\n",
       "      <td>5.72</td>\n",
       "      <td>5740</td>\n",
       "      <td>5.73</td>\n",
       "      <td>2018-10-26</td>\n",
       "      <td>15:00:00</td>\n",
       "      <td>601398</td>\n",
       "    </tr>\n",
       "    <tr>\n",
       "      <th>0</th>\n",
       "      <td>工商银行</td>\n",
       "      <td>5.50</td>\n",
       "      <td>5.65</td>\n",
       "      <td>5.69</td>\n",
       "      <td>5.76</td>\n",
       "      <td>5.57</td>\n",
       "      <td>5.68</td>\n",
       "      <td>5.69</td>\n",
       "      <td>199253584</td>\n",
       "      <td>1122075310</td>\n",
       "      <td>...</td>\n",
       "      <td>5.7</td>\n",
       "      <td>24695</td>\n",
       "      <td>5.71</td>\n",
       "      <td>5894</td>\n",
       "      <td>5.72</td>\n",
       "      <td>5740</td>\n",
       "      <td>5.73</td>\n",
       "      <td>2018-10-26</td>\n",
       "      <td>15:00:00</td>\n",
       "      <td>601398</td>\n",
       "    </tr>\n",
       "  </tbody>\n",
       "</table>\n",
       "<p>2 rows × 33 columns</p>\n",
       "</div>"
      ],
      "text/plain": [
       "   name  open  pre_close  price  high   low   bid   ask     volume  \\\n",
       "0  工商银行  5.66       5.65   5.69  5.76  5.57  5.68  5.69  199253584   \n",
       "0  工商银行  5.50       5.65   5.69  5.76  5.57  5.68  5.69  199253584   \n",
       "\n",
       "       amount   ...    a2_p   a3_v  a3_p  a4_v  a4_p  a5_v  a5_p       date  \\\n",
       "0  1122075310   ...     5.7  24695  5.71  5894  5.72  5740  5.73 2018-10-26   \n",
       "0  1122075310   ...     5.7  24695  5.71  5894  5.72  5740  5.73 2018-10-26   \n",
       "\n",
       "       time    code  \n",
       "0  15:00:00  601398  \n",
       "0  15:00:00  601398  \n",
       "\n",
       "[2 rows x 33 columns]"
      ]
     },
     "execution_count": 16,
     "metadata": {},
     "output_type": "execute_result"
    }
   ],
   "source": [
    "df"
   ]
  },
  {
   "cell_type": "code",
   "execution_count": 28,
   "metadata": {},
   "outputs": [],
   "source": [
    "df = df.reset_index(drop=True)"
   ]
  },
  {
   "cell_type": "code",
   "execution_count": 29,
   "metadata": {},
   "outputs": [],
   "source": [
    "df['date'] = datetime.now().strftime('%Y-%m-%d %H:%M:%S')"
   ]
  },
  {
   "cell_type": "code",
   "execution_count": 30,
   "metadata": {},
   "outputs": [
    {
     "data": {
      "text/html": [
       "<div>\n",
       "<style scoped>\n",
       "    .dataframe tbody tr th:only-of-type {\n",
       "        vertical-align: middle;\n",
       "    }\n",
       "\n",
       "    .dataframe tbody tr th {\n",
       "        vertical-align: top;\n",
       "    }\n",
       "\n",
       "    .dataframe thead th {\n",
       "        text-align: right;\n",
       "    }\n",
       "</style>\n",
       "<table border=\"1\" class=\"dataframe\">\n",
       "  <thead>\n",
       "    <tr style=\"text-align: right;\">\n",
       "      <th></th>\n",
       "      <th>name</th>\n",
       "      <th>open</th>\n",
       "      <th>pre_close</th>\n",
       "      <th>price</th>\n",
       "      <th>high</th>\n",
       "      <th>low</th>\n",
       "      <th>bid</th>\n",
       "      <th>ask</th>\n",
       "      <th>volume</th>\n",
       "      <th>amount</th>\n",
       "      <th>...</th>\n",
       "      <th>a2_p</th>\n",
       "      <th>a3_v</th>\n",
       "      <th>a3_p</th>\n",
       "      <th>a4_v</th>\n",
       "      <th>a4_p</th>\n",
       "      <th>a5_v</th>\n",
       "      <th>a5_p</th>\n",
       "      <th>date</th>\n",
       "      <th>time</th>\n",
       "      <th>code</th>\n",
       "    </tr>\n",
       "  </thead>\n",
       "  <tbody>\n",
       "    <tr>\n",
       "      <th>0</th>\n",
       "      <td>工商银行</td>\n",
       "      <td>5.66</td>\n",
       "      <td>5.65</td>\n",
       "      <td>5.69</td>\n",
       "      <td>5.76</td>\n",
       "      <td>5.57</td>\n",
       "      <td>5.68</td>\n",
       "      <td>5.69</td>\n",
       "      <td>199253584</td>\n",
       "      <td>1122075310</td>\n",
       "      <td>...</td>\n",
       "      <td>5.7</td>\n",
       "      <td>24695</td>\n",
       "      <td>5.71</td>\n",
       "      <td>5894</td>\n",
       "      <td>5.72</td>\n",
       "      <td>5740</td>\n",
       "      <td>5.73</td>\n",
       "      <td>2018-10-28 11:33:53</td>\n",
       "      <td>15:00:00</td>\n",
       "      <td>601398</td>\n",
       "    </tr>\n",
       "    <tr>\n",
       "      <th>1</th>\n",
       "      <td>工商银行</td>\n",
       "      <td>5.50</td>\n",
       "      <td>5.65</td>\n",
       "      <td>5.69</td>\n",
       "      <td>5.76</td>\n",
       "      <td>5.57</td>\n",
       "      <td>5.68</td>\n",
       "      <td>5.69</td>\n",
       "      <td>199253584</td>\n",
       "      <td>1122075310</td>\n",
       "      <td>...</td>\n",
       "      <td>5.7</td>\n",
       "      <td>24695</td>\n",
       "      <td>5.71</td>\n",
       "      <td>5894</td>\n",
       "      <td>5.72</td>\n",
       "      <td>5740</td>\n",
       "      <td>5.73</td>\n",
       "      <td>2018-10-28 11:33:53</td>\n",
       "      <td>15:00:00</td>\n",
       "      <td>601398</td>\n",
       "    </tr>\n",
       "  </tbody>\n",
       "</table>\n",
       "<p>2 rows × 33 columns</p>\n",
       "</div>"
      ],
      "text/plain": [
       "   name  open  pre_close  price  high   low   bid   ask     volume  \\\n",
       "0  工商银行  5.66       5.65   5.69  5.76  5.57  5.68  5.69  199253584   \n",
       "1  工商银行  5.50       5.65   5.69  5.76  5.57  5.68  5.69  199253584   \n",
       "\n",
       "       amount   ...    a2_p   a3_v  a3_p  a4_v  a4_p  a5_v  a5_p  \\\n",
       "0  1122075310   ...     5.7  24695  5.71  5894  5.72  5740  5.73   \n",
       "1  1122075310   ...     5.7  24695  5.71  5894  5.72  5740  5.73   \n",
       "\n",
       "                  date      time    code  \n",
       "0  2018-10-28 11:33:53  15:00:00  601398  \n",
       "1  2018-10-28 11:33:53  15:00:00  601398  \n",
       "\n",
       "[2 rows x 33 columns]"
      ]
     },
     "execution_count": 30,
     "metadata": {},
     "output_type": "execute_result"
    }
   ],
   "source": [
    "df"
   ]
  },
  {
   "cell_type": "code",
   "execution_count": 31,
   "metadata": {},
   "outputs": [
    {
     "data": {
      "text/plain": [
       "'{\"name\":{\"0\":\"工商银行\",\"1\":\"工商银行\"},\"open\":{\"0\":5.66,\"1\":5.5},\"pre_close\":{\"0\":5.65,\"1\":5.65},\"price\":{\"0\":5.69,\"1\":5.69},\"high\":{\"0\":5.76,\"1\":5.76},\"low\":{\"0\":5.57,\"1\":5.57},\"bid\":{\"0\":5.68,\"1\":5.68},\"ask\":{\"0\":5.69,\"1\":5.69},\"volume\":{\"0\":199253584,\"1\":199253584},\"amount\":{\"0\":1122075310,\"1\":1122075310},\"b1_v\":{\"0\":2615,\"1\":2615},\"b1_p\":{\"0\":5.68,\"1\":5.68},\"b2_v\":{\"0\":2673,\"1\":2673},\"b2_p\":{\"0\":5.67,\"1\":5.67},\"b3_v\":{\"0\":2224,\"1\":2224},\"b3_p\":{\"0\":5.66,\"1\":5.66},\"b4_v\":{\"0\":1852,\"1\":1852},\"b4_p\":{\"0\":5.65,\"1\":5.65},\"b5_v\":{\"0\":5334,\"1\":5334},\"b5_p\":{\"0\":5.64,\"1\":5.64},\"a1_v\":{\"0\":26064,\"1\":26064},\"a1_p\":{\"0\":5.69,\"1\":5.69},\"a2_v\":{\"0\":12233,\"1\":12233},\"a2_p\":{\"0\":5.7,\"1\":5.7},\"a3_v\":{\"0\":24695,\"1\":24695},\"a3_p\":{\"0\":5.71,\"1\":5.71},\"a4_v\":{\"0\":5894,\"1\":5894},\"a4_p\":{\"0\":5.72,\"1\":5.72},\"a5_v\":{\"0\":5740,\"1\":5740},\"a5_p\":{\"0\":5.73,\"1\":5.73},\"date\":{\"0\":\"2018-10-28 11:33:53\",\"1\":\"2018-10-28 11:33:53\"},\"time\":{\"0\":\"15:00:00\",\"1\":\"15:00:00\"},\"code\":{\"0\":601398,\"1\":601398}}'"
      ]
     },
     "execution_count": 31,
     "metadata": {},
     "output_type": "execute_result"
    }
   ],
   "source": [
    "df.to_json(force_ascii=False)"
   ]
  },
  {
   "cell_type": "code",
   "execution_count": 32,
   "metadata": {},
   "outputs": [
    {
     "data": {
      "text/html": [
       "<div>\n",
       "<style scoped>\n",
       "    .dataframe tbody tr th:only-of-type {\n",
       "        vertical-align: middle;\n",
       "    }\n",
       "\n",
       "    .dataframe tbody tr th {\n",
       "        vertical-align: top;\n",
       "    }\n",
       "\n",
       "    .dataframe thead th {\n",
       "        text-align: right;\n",
       "    }\n",
       "</style>\n",
       "<table border=\"1\" class=\"dataframe\">\n",
       "  <thead>\n",
       "    <tr style=\"text-align: right;\">\n",
       "      <th></th>\n",
       "      <th>name</th>\n",
       "      <th>open</th>\n",
       "      <th>pre_close</th>\n",
       "      <th>price</th>\n",
       "      <th>high</th>\n",
       "      <th>low</th>\n",
       "      <th>bid</th>\n",
       "      <th>ask</th>\n",
       "      <th>volume</th>\n",
       "      <th>amount</th>\n",
       "      <th>...</th>\n",
       "      <th>a2_p</th>\n",
       "      <th>a3_v</th>\n",
       "      <th>a3_p</th>\n",
       "      <th>a4_v</th>\n",
       "      <th>a4_p</th>\n",
       "      <th>a5_v</th>\n",
       "      <th>a5_p</th>\n",
       "      <th>date</th>\n",
       "      <th>time</th>\n",
       "      <th>code</th>\n",
       "    </tr>\n",
       "  </thead>\n",
       "  <tbody>\n",
       "    <tr>\n",
       "      <th>0</th>\n",
       "      <td>工商银行</td>\n",
       "      <td>5.66</td>\n",
       "      <td>5.65</td>\n",
       "      <td>5.69</td>\n",
       "      <td>5.76</td>\n",
       "      <td>5.57</td>\n",
       "      <td>5.68</td>\n",
       "      <td>5.69</td>\n",
       "      <td>199253584</td>\n",
       "      <td>1122075310</td>\n",
       "      <td>...</td>\n",
       "      <td>5.7</td>\n",
       "      <td>24695</td>\n",
       "      <td>5.71</td>\n",
       "      <td>5894</td>\n",
       "      <td>5.72</td>\n",
       "      <td>5740</td>\n",
       "      <td>5.73</td>\n",
       "      <td>2018-10-28 11:33:53</td>\n",
       "      <td>15:00:00</td>\n",
       "      <td>601398</td>\n",
       "    </tr>\n",
       "    <tr>\n",
       "      <th>1</th>\n",
       "      <td>工商银行</td>\n",
       "      <td>5.50</td>\n",
       "      <td>5.65</td>\n",
       "      <td>5.69</td>\n",
       "      <td>5.76</td>\n",
       "      <td>5.57</td>\n",
       "      <td>5.68</td>\n",
       "      <td>5.69</td>\n",
       "      <td>199253584</td>\n",
       "      <td>1122075310</td>\n",
       "      <td>...</td>\n",
       "      <td>5.7</td>\n",
       "      <td>24695</td>\n",
       "      <td>5.71</td>\n",
       "      <td>5894</td>\n",
       "      <td>5.72</td>\n",
       "      <td>5740</td>\n",
       "      <td>5.73</td>\n",
       "      <td>2018-10-28 11:33:53</td>\n",
       "      <td>15:00:00</td>\n",
       "      <td>601398</td>\n",
       "    </tr>\n",
       "  </tbody>\n",
       "</table>\n",
       "<p>2 rows × 33 columns</p>\n",
       "</div>"
      ],
      "text/plain": [
       "   name  open  pre_close  price  high   low   bid   ask     volume  \\\n",
       "0  工商银行  5.66       5.65   5.69  5.76  5.57  5.68  5.69  199253584   \n",
       "1  工商银行  5.50       5.65   5.69  5.76  5.57  5.68  5.69  199253584   \n",
       "\n",
       "       amount   ...    a2_p   a3_v  a3_p  a4_v  a4_p  a5_v  a5_p  \\\n",
       "0  1122075310   ...     5.7  24695  5.71  5894  5.72  5740  5.73   \n",
       "1  1122075310   ...     5.7  24695  5.71  5894  5.72  5740  5.73   \n",
       "\n",
       "                 date      time    code  \n",
       "0 2018-10-28 11:33:53  15:00:00  601398  \n",
       "1 2018-10-28 11:33:53  15:00:00  601398  \n",
       "\n",
       "[2 rows x 33 columns]"
      ]
     },
     "execution_count": 32,
     "metadata": {},
     "output_type": "execute_result"
    }
   ],
   "source": [
    "pd.read_json(_,)"
   ]
  },
  {
   "cell_type": "code",
   "execution_count": null,
   "metadata": {},
   "outputs": [],
   "source": []
  }
 ],
 "metadata": {
  "kernelspec": {
   "display_name": "Python 3",
   "language": "python",
   "name": "python3"
  },
  "language_info": {
   "codemirror_mode": {
    "name": "ipython",
    "version": 3
   },
   "file_extension": ".py",
   "mimetype": "text/x-python",
   "name": "python",
   "nbconvert_exporter": "python",
   "pygments_lexer": "ipython3",
   "version": "3.6.5"
  }
 },
 "nbformat": 4,
 "nbformat_minor": 2
}
